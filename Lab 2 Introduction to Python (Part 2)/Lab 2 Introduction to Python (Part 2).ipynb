{
 "cells": [
  {
   "cell_type": "markdown",
   "metadata": {},
   "source": [
    "# Lab 2 Introduction to Python (Part 2)"
   ]
  },
  {
   "cell_type": "markdown",
   "metadata": {},
   "source": [
    "## Task 1: \n",
    "Reading and writing images with Python Imaging Library (PIL)"
   ]
  },
  {
   "cell_type": "code",
   "execution_count": 23,
   "metadata": {},
   "outputs": [],
   "source": [
    "import PIL\n",
    "from PIL import Image\n",
    "img = Image.open(\"lena.jpg\")\n",
    "img.show()"
   ]
  },
  {
   "cell_type": "code",
   "execution_count": 24,
   "metadata": {},
   "outputs": [
    {
     "name": "stdout",
     "output_type": "stream",
     "text": [
      "Image Size:  (225, 225)\n",
      "Image Format:  JPEG\n",
      "Image Mode:  RGB\n"
     ]
    }
   ],
   "source": [
    "print('Image Size: ', img.size)\n",
    "print('Image Format: ', img.format)\n",
    "print('Image Mode: ', img.mode)"
   ]
  },
  {
   "cell_type": "markdown",
   "metadata": {},
   "source": [
    "## Task 2: \n",
    "Please follow the tutorial available at http://www.python-course.eu/numpy.php for a quick review of numpy arrays."
   ]
  },
  {
   "cell_type": "markdown",
   "metadata": {},
   "source": [
    "## Task 3: Play around with Python "
   ]
  },
  {
   "cell_type": "markdown",
   "metadata": {},
   "source": [
    "### a-\tConvert RGB to Greyscale"
   ]
  },
  {
   "cell_type": "code",
   "execution_count": 25,
   "metadata": {},
   "outputs": [],
   "source": [
    "Image.open('lena.jpg').convert('LA').save('grayscale.png')\n",
    "gray_img = Image.open('grayscale.png')\n",
    "gray_img.show()"
   ]
  },
  {
   "cell_type": "markdown",
   "metadata": {},
   "source": [
    "### b- Smoothing Filter\n",
    "using predefined filters present in PIL package so for Smoothing Smooth_More filter is used"
   ]
  },
  {
   "cell_type": "code",
   "execution_count": 26,
   "metadata": {},
   "outputs": [],
   "source": [
    "from PIL import ImageFilter\n",
    "\n",
    "Image.open('lena.jpg').filter(ImageFilter.SMOOTH_MORE).save('smooth.png')\n",
    "smooth_img = Image.open('smooth.png')\n",
    "smooth_img.show()"
   ]
  },
  {
   "cell_type": "markdown",
   "metadata": {},
   "source": [
    "### c- Sharpen Filter\n",
    "using predefined filters present in PIL package so for SHARPEN filter is used"
   ]
  },
  {
   "cell_type": "code",
   "execution_count": 27,
   "metadata": {},
   "outputs": [],
   "source": [
    "Image.open('lena.jpg').filter(ImageFilter.SHARPEN).save('sharpen.png')\n",
    "sharpen_img = Image.open('sharpen.png')\n",
    "sharpen_img.show()"
   ]
  },
  {
   "cell_type": "markdown",
   "metadata": {},
   "source": [
    "### d- converting RGB to grayScale using average formula"
   ]
  },
  {
   "cell_type": "code",
   "execution_count": 42,
   "metadata": {},
   "outputs": [],
   "source": [
    "import numpy as np\n",
    "\n",
    "def formula(pixel):\n",
    "    return (0.299*pixel[0] + 0.587*pixel[1] + 0.114*pixel[2])\n",
    "\n",
    "\n",
    "z = np.asarray(Image.open('lena.jpg'))\n",
    "g_color = np.zeros((z.shape[0], z.shape[1]))\n",
    "for rows in range(len(z)):\n",
    "    for colomn in range(len(z[rows])):\n",
    "        g_color[rows][colomn] = formula(z[rows][colomn])\n",
    "\n",
    "g_color=g_color.astype(np.uint8)\n",
    "imObject = Image.fromarray(g_color)\n",
    "imObject.save('rgb-to-gs.png')"
   ]
  },
  {
   "cell_type": "code",
   "execution_count": 43,
   "metadata": {},
   "outputs": [],
   "source": [
    "conv_grayscale_img = Image.open('rgb-to-gs.png')\n",
    "conv_grayscale_img.show()"
   ]
  },
  {
   "cell_type": "code",
   "execution_count": null,
   "metadata": {},
   "outputs": [],
   "source": []
  }
 ],
 "metadata": {
  "kernelspec": {
   "display_name": "Python 3",
   "language": "python",
   "name": "python3"
  },
  "language_info": {
   "codemirror_mode": {
    "name": "ipython",
    "version": 3
   },
   "file_extension": ".py",
   "mimetype": "text/x-python",
   "name": "python",
   "nbconvert_exporter": "python",
   "pygments_lexer": "ipython3",
   "version": "3.8.5"
  }
 },
 "nbformat": 4,
 "nbformat_minor": 4
}
