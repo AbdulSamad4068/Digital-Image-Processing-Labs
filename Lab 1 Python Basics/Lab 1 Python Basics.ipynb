{
 "cells": [
  {
   "cell_type": "markdown",
   "metadata": {},
   "source": [
    "# Task 1\n",
    "\n",
    "Write down a python program which takes two strings as input and calculate the\n",
    "Levenshtein/Edit distance between the two strings.\n",
    "\n",
    "Explanation:-\n",
    "\n",
    "Levenstein/Edit distance gives us a measure of similarity between two strings/sequences. Going by formal definition it is minimum number of single character edits required to transform one string into another.\n",
    "Single character edits include:-\n",
    "-\tInsertion\n",
    "-\tDeletion\n",
    "-\tSubstitution\n",
    "\n"
   ]
  },
  {
   "cell_type": "code",
   "execution_count": 1,
   "metadata": {},
   "outputs": [],
   "source": [
    "import numpy as np"
   ]
  },
  {
   "cell_type": "markdown",
   "metadata": {},
   "source": [
    "## Function to implement Levenshtein Distance logic"
   ]
  },
  {
   "cell_type": "code",
   "execution_count": 2,
   "metadata": {},
   "outputs": [],
   "source": [
    "def levenshtein_distance(source_str_list, target_str_list, show_processed_array=True):\n",
    "    #Adding character on start of string\n",
    "       \n",
    "    source_str_list.insert(0,'/')\n",
    "    target_str_list.insert(0,'/')\n",
    "    \n",
    "    \n",
    "    #Creating an array of size len(source_str_list) * len(target_str_list)\n",
    "    arr = np.zeros((len(target_str_list), len(source_str_list)), dtype='int')\n",
    "    \n",
    "    row_count = arr.shape[0]\n",
    "    col_count = arr.shape[1]\n",
    "    \n",
    "    #initializing first row and first column with default values\n",
    "    for i in range(row_count):\n",
    "        arr[i][0] = i\n",
    "        \n",
    "    for j in range(col_count):\n",
    "        arr[0][j] = j\n",
    "\n",
    "    \n",
    "    \n",
    "    #Applying Levenshtein Distance algorithm steps \n",
    "    for i in range(1, row_count):\n",
    "        for j in range(1, col_count):\n",
    "\n",
    "            if (source_str_list[j] == target_str_list[i]):\n",
    "                arr[i][j] = arr[i-1][j-1]\n",
    "\n",
    "            else:\n",
    "                min_num = min(arr[i][j-1], arr[i-1][j], arr[i-1][j-1])\n",
    "                arr[i][j] = min_num +1\n",
    "                \n",
    "    if (show_processed_array):\n",
    "        print(\"\\nProcessed Array: \\n\", arr)\n",
    "    \n",
    "    return arr[-1,-1]\n"
   ]
  },
  {
   "cell_type": "markdown",
   "metadata": {},
   "source": [
    "## Taking Input"
   ]
  },
  {
   "cell_type": "code",
   "execution_count": 3,
   "metadata": {},
   "outputs": [],
   "source": [
    "# input_str = 'kitten'\n",
    "# output_str = 'sitting'"
   ]
  },
  {
   "cell_type": "code",
   "execution_count": 4,
   "metadata": {},
   "outputs": [
    {
     "name": "stdout",
     "output_type": "stream",
     "text": [
      "Enter string 1 \"(\"Source\")\": kitten\n",
      "Enter string 2 \"(\"Target\")\": sitting\n"
     ]
    }
   ],
   "source": [
    "input_str = input('Enter string 1 \"(\"Source\")\": ')\n",
    "output_str = input('Enter string 2 \"(\"Target\")\": ')"
   ]
  },
  {
   "cell_type": "code",
   "execution_count": 5,
   "metadata": {},
   "outputs": [],
   "source": [
    "input_str_list = list(input_str)\n",
    "output_str_list = list(output_str)"
   ]
  },
  {
   "cell_type": "markdown",
   "metadata": {},
   "source": [
    "## Call function and Display results"
   ]
  },
  {
   "cell_type": "code",
   "execution_count": 6,
   "metadata": {},
   "outputs": [
    {
     "name": "stdout",
     "output_type": "stream",
     "text": [
      "string 1 \"(\"Source\")\" is:  kitten\n",
      "output 2 \"(\"Target\")\" is: sitting\n",
      "\n",
      "Processed Array: \n",
      " [[0 1 2 3 4 5 6]\n",
      " [1 1 2 3 4 5 6]\n",
      " [2 2 1 2 3 4 5]\n",
      " [3 3 2 1 2 3 4]\n",
      " [4 4 3 2 1 2 3]\n",
      " [5 5 4 3 2 2 3]\n",
      " [6 6 5 4 3 3 2]\n",
      " [7 7 6 5 4 4 3]]\n",
      "\n",
      "Levenshtein Distance:  3\n"
     ]
    }
   ],
   "source": [
    "print('string 1 \"(\"Source\")\" is:  '+ input_str)\n",
    "print('output 2 \"(\"Target\")\" is: '+ output_str)\n",
    "\n",
    "levenshtein_distance_result = levenshtein_distance(input_str_list.copy(), output_str_list.copy())\n",
    "\n",
    "print(\"\\nLevenshtein Distance: \",levenshtein_distance_result)"
   ]
  },
  {
   "cell_type": "markdown",
   "metadata": {},
   "source": [
    "# Task 2\n",
    "Now modify the above written program in such a way that it takes two text files containing single- line and lowercase English sentences named as reference.txt and hypothesis.txt, and outputs the file result.txt containing Levenstein distance of these two files as below. The distance should be word level and not character level."
   ]
  },
  {
   "cell_type": "code",
   "execution_count": 346,
   "metadata": {},
   "outputs": [],
   "source": [
    "reference_file = open('reference.txt', 'r')\n",
    "hypothesis_file = open('hypothesis.txt', 'r') "
   ]
  },
  {
   "cell_type": "code",
   "execution_count": 347,
   "metadata": {},
   "outputs": [],
   "source": [
    "reference_data = reference_file.read()\n",
    "hypothesis_data = hypothesis_file.read()"
   ]
  },
  {
   "cell_type": "code",
   "execution_count": 348,
   "metadata": {},
   "outputs": [],
   "source": [
    "reference_tokens = reference_data.split(' ')\n",
    "hypothesis_tokens = hypothesis_data.split(' ')"
   ]
  },
  {
   "cell_type": "code",
   "execution_count": 349,
   "metadata": {},
   "outputs": [
    {
     "name": "stdout",
     "output_type": "stream",
     "text": [
      "Reference File Data \"(Source\") is:  \n",
      " this is some text and we would like to see if it has been identified correctly by speech recognition system\n",
      "\n",
      "Hypothesis File Data 2 \"(Target\") is:\n",
      " this is a text and we would like to check what has been identified by the speech recognition\n",
      "\n",
      "Processed Array: \n",
      " [[ 0  1  2  3  4  5  6  7  8  9 10 11 12 13 14 15 16 17 18 19 20]\n",
      " [ 1  0  1  2  3  4  5  6  7  8  9 10 11 12 13 14 15 16 17 18 19]\n",
      " [ 2  1  0  1  2  3  4  5  6  7  8  9 10 11 12 13 14 15 16 17 18]\n",
      " [ 3  2  1  1  2  3  4  5  6  7  8  9 10 11 12 13 14 15 16 17 18]\n",
      " [ 4  3  2  2  1  2  3  4  5  6  7  8  9 10 11 12 13 14 15 16 17]\n",
      " [ 5  4  3  3  2  1  2  3  4  5  6  7  8  9 10 11 12 13 14 15 16]\n",
      " [ 6  5  4  4  3  2  1  2  3  4  5  6  7  8  9 10 11 12 13 14 15]\n",
      " [ 7  6  5  5  4  3  2  1  2  3  4  5  6  7  8  9 10 11 12 13 14]\n",
      " [ 8  7  6  6  5  4  3  2  1  2  3  4  5  6  7  8  9 10 11 12 13]\n",
      " [ 9  8  7  7  6  5  4  3  2  1  2  3  4  5  6  7  8  9 10 11 12]\n",
      " [10  9  8  8  7  6  5  4  3  2  2  3  4  5  6  7  8  9 10 11 12]\n",
      " [11 10  9  9  8  7  6  5  4  3  3  3  4  5  6  7  8  9 10 11 12]\n",
      " [12 11 10 10  9  8  7  6  5  4  4  4  4  4  5  6  7  8  9 10 11]\n",
      " [13 12 11 11 10  9  8  7  6  5  5  5  5  5  4  5  6  7  8  9 10]\n",
      " [14 13 12 12 11 10  9  8  7  6  6  6  6  6  5  4  5  6  7  8  9]\n",
      " [15 14 13 13 12 11 10  9  8  7  7  7  7  7  6  5  5  5  6  7  8]\n",
      " [16 15 14 14 13 12 11 10  9  8  8  8  8  8  7  6  6  6  6  7  8]\n",
      " [17 16 15 15 14 13 12 11 10  9  9  9  9  9  8  7  7  7  6  7  8]\n",
      " [18 17 16 16 15 14 13 12 11 10 10 10 10 10  9  8  8  8  7  6  7]]\n",
      "\n",
      "Levenshtein Distance:  7\n"
     ]
    }
   ],
   "source": [
    "print('Reference File Data \"(Source\") is:  \\n', reference_data)\n",
    "print('\\nHypothesis File Data 2 \"(Target\") is:\\n', hypothesis_data)\n",
    "\n",
    "levenshtein_distance_result = levenshtein_distance(reference_tokens.copy(), hypothesis_tokens.copy())\n",
    "print(\"\\nLevenshtein Distance: \",levenshtein_distance_result)"
   ]
  },
  {
   "cell_type": "markdown",
   "metadata": {},
   "source": [
    "## save Lavenstein Distance in result.txt file"
   ]
  },
  {
   "cell_type": "code",
   "execution_count": 350,
   "metadata": {},
   "outputs": [
    {
     "name": "stdout",
     "output_type": "stream",
     "text": [
      "Levenstein distance is 7\n"
     ]
    }
   ],
   "source": [
    "with open('result.txt','w') as result_file:\n",
    "    save_text = 'Levenstein distance is '+ str(levenshtein_distance_result)\n",
    "    print(save_text)\n",
    "    result_file.write(save_text)"
   ]
  }
 ],
 "metadata": {
  "kernelspec": {
   "display_name": "Python 3",
   "language": "python",
   "name": "python3"
  },
  "language_info": {
   "codemirror_mode": {
    "name": "ipython",
    "version": 3
   },
   "file_extension": ".py",
   "mimetype": "text/x-python",
   "name": "python",
   "nbconvert_exporter": "python",
   "pygments_lexer": "ipython3",
   "version": "3.8.5"
  }
 },
 "nbformat": 4,
 "nbformat_minor": 4
}
